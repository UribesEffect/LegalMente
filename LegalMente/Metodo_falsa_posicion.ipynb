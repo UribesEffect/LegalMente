{
 "cells": [
  {
   "cell_type": "code",
   "execution_count": 2,
   "metadata": {},
   "outputs": [],
   "source": [
    "def falsa_posicion(func, a, b, tol=1e-6, max_iter=100):\n",
    "    \"\"\"\n",
    "    Método de la falsa posición para encontrar la raíz de una función.\n",
    "    \n",
    "    Args:\n",
    "        func (function): La función para la cual se desea encontrar la raíz.\n",
    "        a (float): El límite inferior del intervalo inicial.\n",
    "        b (float): El límite superior del intervalo inicial.\n",
    "        tol (float, optional): La tolerancia para la convergencia. El valor predeterminado es 1e-6.\n",
    "        max_iter (int, optional): El número máximo de iteraciones permitidas. El valor predeterminado es 100.\n",
    "    \n",
    "    Returns:\n",
    "        float: La aproximación de la raíz de la función.\n",
    "    \"\"\"\n",
    "    fa = func(a)\n",
    "    fb = func(b)\n",
    "    \n",
    "    if fa * fb >= 0:\n",
    "        raise ValueError(\"La función no cumple con el criterio de Bolzano en el intervalo dado.\")\n",
    "    \n",
    "    for i in range(max_iter):\n",
    "        c = (a * fb - b * fa) / (fb - fa)\n",
    "        fc = func(c)\n",
    "        \n",
    "        if abs(fc) < tol:\n",
    "            return c\n",
    "        \n",
    "        if fa * fc < 0:\n",
    "            b = c\n",
    "            fb = fc\n",
    "        else:\n",
    "            a = c\n",
    "            fa = fc\n",
    "    \n",
    "    raise ValueError(\"El método de la falsa posición no converge después de {} iteraciones.\".format(max_iter))\n"
   ]
  },
  {
   "cell_type": "code",
   "execution_count": 3,
   "metadata": {},
   "outputs": [
    {
     "data": {
      "text/plain": [
       "2.690647405913855"
      ]
     },
     "execution_count": 3,
     "metadata": {},
     "output_type": "execute_result"
    }
   ],
   "source": []
  }
 ],
 "metadata": {
  "kernelspec": {
   "display_name": "Python 3",
   "language": "python",
   "name": "python3"
  },
  "language_info": {
   "codemirror_mode": {
    "name": "ipython",
    "version": 3
   },
   "file_extension": ".py",
   "mimetype": "text/x-python",
   "name": "python",
   "nbconvert_exporter": "python",
   "pygments_lexer": "ipython3",
   "version": "3.10.8"
  }
 },
 "nbformat": 4,
 "nbformat_minor": 2
}
