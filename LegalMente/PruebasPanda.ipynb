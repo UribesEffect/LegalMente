{
 "cells": [
  {
   "cell_type": "code",
   "execution_count": 8,
   "metadata": {},
   "outputs": [],
   "source": [
    "import pandas\n"
   ]
  },
  {
   "cell_type": "code",
   "execution_count": 47,
   "metadata": {},
   "outputs": [],
   "source": [
    "# Leer el archivo .xlsx\n",
    "df = pd.read_excel(archivo)\n",
    "\n",
    "# Remove the first row\n",
    "df = df.drop(index=0)"
   ]
  },
  {
   "cell_type": "code",
   "execution_count": 46,
   "metadata": {},
   "outputs": [
    {
     "name": "stdout",
     "output_type": "stream",
     "text": [
      "Match found!\n"
     ]
    }
   ],
   "source": [
    "column_data = df.iloc[:, 2] # datos de la 5 columna\n",
    "#print(column_data) # imprime los datos de la columna 5\n",
    "target_string = \"JUAN PABLO CASTAÑO PALACIO\"\n",
    "for data in column_data: # recorre los datos de la columna 5\n",
    "    if data == target_string:# compara si el dato de la columna 5 es igual a la cadena target_string\n",
    "        print(\"Match found!\")# imprime si hay coincidencia\n",
    "    "
   ]
  },
  {
   "cell_type": "code",
   "execution_count": 45,
   "metadata": {},
   "outputs": [
    {
     "name": "stdout",
     "output_type": "stream",
     "text": [
      "  Unnamed: 0                                         Unnamed: 1  \\\n",
      "1  Antioquia      Juzgado 001 Promiscuo del Circuito de Segovia   \n",
      "2  Antioquia     Juzgado 001 Promiscuo del Circuito de Cisneros   \n",
      "3  Antioquia  Juzgado 001 Promiscuo del Circuito de San Pedr...   \n",
      "4  Antioquia       Juzgado 001 Promiscuo del Circuito de Amalfi   \n",
      "5  Antioquia     Juzgado 001 Promiscuo del Circuito de Sopetrán   \n",
      "\n",
      "                        Unnamed: 2 Unnamed: 3 Unnamed: 4 Unnamed: 5  \\\n",
      "1   DUVAN ALBERTO RAMIREZ  VASQUEZ          9        252         28   \n",
      "2  JUAN DAVID SOLORZANO LIZARRALDE          9        237         26   \n",
      "3          JORGE LEON JIMENEZ URAN          9        221         25   \n",
      "4    PAULA ANDREA CASTAÑO  PALACIO          9        217         24   \n",
      "5      LUIS EDUARDO SERRANO JAIMES          9        164         18   \n",
      "\n",
      "  Unnamed: 6 Unnamed: 7 Unnamed: 8 PROMEDIO MENSUAL DE INGRESOS \\nEFECTIVOS  \\\n",
      "1        218         24        168                                       15   \n",
      "2        203         23        195                                       17   \n",
      "3        184         20        293                                       14   \n",
      "4        182         20        350                                       13   \n",
      "5        181         20        375                                       11   \n",
      "\n",
      "  Unnamed: 10 Unnamed: 11 PROMEDIO MENSUAL DE EGRESOS \\nEFECTIVOS Unnamed: 13  \\\n",
      "1          12           0                                      13          12   \n",
      "2           9           0                                      15           7   \n",
      "3          11         NaN                                      11          10   \n",
      "4          11           0                                      11          10   \n",
      "5           7         NaN                                      12           8   \n",
      "\n",
      "  Unnamed: 14  \n",
      "1           0  \n",
      "2           0  \n",
      "3         NaN  \n",
      "4           0  \n",
      "5         NaN  \n",
      "1             DUVAN ALBERTO RAMIREZ  VASQUEZ\n",
      "2            JUAN DAVID SOLORZANO LIZARRALDE\n",
      "3                    JORGE LEON JIMENEZ URAN\n",
      "4              PAULA ANDREA CASTAÑO  PALACIO\n",
      "5                LUIS EDUARDO SERRANO JAIMES\n",
      "6         CARINA MARCELA  ARBOLEDA  GRISALES\n",
      "7            JENNIFER PATRICIA SANTOS IBARRA\n",
      "8                  MARIO JOSE  LOZANO MADRID\n",
      "9               DANIELA MARIA VASQUEZ TASCON\n",
      "10                     SANTIAGO LOAIZA HENAO\n",
      "11           LUIS EDUARDO  GRISALES  HIGUITA\n",
      "12           ANDREA PATRICIA ESPEJO BURITICA\n",
      "13                  ALBA LUCIA VANEGAS YEPES\n",
      "14            LUIS FERNANDO SIERRA JARAMILLO\n",
      "15             JUAN CARLOS MANTILLA RONDEROS\n",
      "16                    SERGIO  ZAPATA  PATIÑO\n",
      "17                      OLGA LUCIA SOTO  GIL\n",
      "18              LUIS CARLOS  CORREA  ZULUAGA\n",
      "19                JUAN PABLO CASTAÑO PALACIO\n",
      "20    JOSE FOCION DE NICOLAS  SOTO  BURITICA\n",
      "21                                       NaN\n",
      "22                                       NaN\n",
      "Name: Unnamed: 2, dtype: object\n"
     ]
    }
   ],
   "source": [
    "# Mostrar la información del archivo\n",
    "\n",
    "print(df.head())\n",
    "print(column_data)\n",
    "\n"
   ]
  }
 ],
 "metadata": {
  "kernelspec": {
   "display_name": "Python 3",
   "language": "python",
   "name": "python3"
  },
  "language_info": {
   "codemirror_mode": {
    "name": "ipython",
    "version": 3
   },
   "file_extension": ".py",
   "mimetype": "text/x-python",
   "name": "python",
   "nbconvert_exporter": "python",
   "pygments_lexer": "ipython3",
   "version": "3.10.8"
  }
 },
 "nbformat": 4,
 "nbformat_minor": 2
}
