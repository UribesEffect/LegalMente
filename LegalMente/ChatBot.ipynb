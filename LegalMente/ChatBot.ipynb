{
 "cells": [
  {
   "cell_type": "code",
   "execution_count": null,
   "metadata": {},
   "outputs": [],
   "source": [
    "class NodoPregunta: # Clase que representa un nodo de pregunta en el árbol\n",
    "    def __init__(self, pregunta, si=None, no=None):# Constructor que recibe la pregunta y los nodos de respuesta\n",
    "        self.pregunta = pregunta\n",
    "        self.si = si\n",
    "        self.no = no\n",
    "\n",
    "def crear_arbol_preguntas():# Función que crea el árbol de preguntas\n",
    "    # Crear los nodos de las preguntas\n",
    "    pregunta1 = NodoPregunta(\"¿Necesitas ayuda legal para resolver un problema relacionado con salud?\") # Nodo raíz\n",
    "    pregunta2 = NodoPregunta(\"\"\"¿El problema esta relacionado con procedimientos no PBS?\n",
    "                             Pruebas\"\"\") # Nodo izquierdo\n",
    "    pregunta3 = NodoPregunta(\"¿El problema esta relacionado con procedimientos PBS?\") # Nodo izquierdo\n",
    "    pregunta4 = NodoPregunta(\"¿El problema esta relacionado con restriccion del acceso al servicio a la salud?\")# Nodo derecho\n",
    "    pregunta5 = NodoPregunta(\"¿El problema esta relacionado con una respuesta de peticion pendiente?\") # Nodo izquierdo\n",
    "\n",
    "    # Crear el nodo de respuesta\n",
    "    Respuesta = NodoPregunta(\"¿Quieres volver al menu inicial?\")\n",
    "\n",
    "    # Asignar las respuestas de sí y no a las preguntas\n",
    "    pregunta1.si = pregunta2\n",
    "    pregunta1.no = Respuesta\n",
    "    pregunta2.si = \"Procedimiento no PBS\"\n",
    "    pregunta2.no = pregunta3\n",
    "    pregunta3.si = \"Procedimiento PBS\"\n",
    "    pregunta3.no = pregunta4\n",
    "    pregunta4.si = \"Restriccion del acceso al servicio a la salud\"\n",
    "    pregunta4.no = pregunta5\n",
    "    pregunta5.si = \"Respuesta de peticion pendiente\"\n",
    "    pregunta5.no = \"podria necesitar asistencia legal de otro tipo\" \n",
    "    \n",
    "    \n",
    "    Respuesta.si = pregunta1\n",
    "    Respuesta.no = \"Gracias por usar el chatbot de legabot, tu asistente de tramites de confianza!!!\"\n",
    "\n",
    "    return pregunta1\n",
    "\n",
    "def Bot_respuesta(nodo_pregunta):\n",
    "    respuesta = input(nodo_pregunta.pregunta + \" (si/no): \")\n",
    "\n",
    "    if respuesta.lower() == \"si\":\n",
    "        if isinstance(nodo_pregunta.si, NodoPregunta):\n",
    "            Bot_respuesta(nodo_pregunta.si)\n",
    "        else:\n",
    "            print(nodo_pregunta.si)\n",
    "    elif respuesta.lower() == \"no\":\n",
    "        if isinstance(nodo_pregunta.no, NodoPregunta):\n",
    "            Bot_respuesta(nodo_pregunta.no)\n",
    "        else:\n",
    "            print(nodo_pregunta.no)\n",
    "    else:\n",
    "        print(\"Respuesta inválida. Por favor, responda 'si' o 'no'.\")"
   ]
  },
  {
   "cell_type": "code",
   "execution_count": 59,
   "metadata": {},
   "outputs": [
    {
     "name": "stdout",
     "output_type": "stream",
     "text": [
      "Procedimiento PBS\n"
     ]
    }
   ],
   "source": [
    "# Jugar el juego\n",
    "arbol_preguntas = crear_arbol_preguntas()\n",
    "Bot_respuesta(arbol_preguntas)"
   ]
  }
 ],
 "metadata": {
  "kernelspec": {
   "display_name": "Python 3",
   "language": "python",
   "name": "python3"
  },
  "language_info": {
   "codemirror_mode": {
    "name": "ipython",
    "version": 3
   },
   "file_extension": ".py",
   "mimetype": "text/x-python",
   "name": "python",
   "nbconvert_exporter": "python",
   "pygments_lexer": "ipython3",
   "version": "3.10.8"
  }
 },
 "nbformat": 4,
 "nbformat_minor": 2
}
