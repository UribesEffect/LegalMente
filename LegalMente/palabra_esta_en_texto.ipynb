{
 "cells": [
  {
   "cell_type": "code",
   "execution_count": 20,
   "metadata": {},
   "outputs": [],
   "source": [
    "import pandas as pd"
   ]
  },
  {
   "cell_type": "code",
   "execution_count": 38,
   "metadata": {},
   "outputs": [],
   "source": [
    "# Leer el archivo .xlsx\n",
    "archivo = \"C:/Users/USUARIO/Desktop/bases_de_datos/Palabras_clave_tutela.xlsx\"\n",
    "df = pd.read_excel(archivo)\n",
    "\n",
    "# Remove the first row\n",
    "#df = df.drop(index=0)"
   ]
  },
  {
   "cell_type": "code",
   "execution_count": 41,
   "metadata": {},
   "outputs": [
    {
     "name": "stdout",
     "output_type": "stream",
     "text": [
      "['ARL ', 'SALUD', 'SEGURIDAD ', 'EPS ', 'IPS', 'CITA', 'PRUEBA', 'TRASLADO', 'ENFERMEDAD', 'TRATAMIENTO']\n"
     ]
    }
   ],
   "source": [
    "palabras_clave_derecho_salud = df.iloc[:, 0] # datos de la 1 columna\n",
    "palabras_clave_debido_proceso = df.iloc[:, 1] # datos de la 2 columna\n",
    "#print(palabras_clave_derecho_salud) # imprime los datos de la columna 1\n",
    "#print(palabras_clave_debido_proceso) # imprime los datos de la columna 2\n",
    "# Text to search\n",
    "texto = \"LA ADMINISTRACIÓN DE UNA ENTIDAD DE SALUD, COMO UNA EPS O UNA IPS, ES FUNDAMENTAL PARA GARANTIZAR LA SEGURIDAD Y EL BIENESTAR DE LOS PACIENTES. EL MÉDICO, A TRAVÉS DE LA HISTORIA CLÍNICA DEL PACIENTE, PUEDE REALIZAR UNA ORDEN MÉDICA Y SOLICITAR PRUEBAS PARA DIAGNOSTICAR Y TRATAR ENFERMEDADES. ESTAS PRUEBAS SON ESENCIALES PARA FUNDAMENTAR EL TRASLADO A UNA ARL EN CASO DE ACCIDENTE LABORAL. ADEMÁS, LA CITA MÉDICA PERMITE AL PACIENTE RECIBIR LA ATENCIÓN ADECUADA Y SEGUIR UN PLAN DE TRATAMIENTO PARA MEJORAR SU SALUD. ES IMPORTANTE QUE TODOS LOS PROCESOS SE REALICEN DE MANERA ORDENADA Y EFICIENTE, CUMPLIENDO CON LOS ESTÁNDARES DE CALIDAD Y CUIDADO MÉDICO.\"\n",
    "\n",
    "# Find matching words\n",
    "matching_words = [word for word in palabras_clave_derecho_salud if word in texto]\n",
    "\n",
    "# Print the matching words\n",
    "print(matching_words)\n",
    "\n",
    "\n",
    "\n"
   ]
  },
  {
   "cell_type": "code",
   "execution_count": null,
   "metadata": {},
   "outputs": [],
   "source": []
  }
 ],
 "metadata": {
  "kernelspec": {
   "display_name": "Python 3",
   "language": "python",
   "name": "python3"
  },
  "language_info": {
   "codemirror_mode": {
    "name": "ipython",
    "version": 3
   },
   "file_extension": ".py",
   "mimetype": "text/x-python",
   "name": "python",
   "nbconvert_exporter": "python",
   "pygments_lexer": "ipython3",
   "version": "3.10.8"
  }
 },
 "nbformat": 4,
 "nbformat_minor": 2
}
